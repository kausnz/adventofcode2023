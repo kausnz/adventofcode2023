{
 "cells": [
  {
   "cell_type": "markdown",
   "metadata": {},
   "source": [
    "# Day 4\n",
    "\n",
    "[https://adventofcode.com/2023/day/4]()"
   ]
  },
  {
   "cell_type": "code",
   "execution_count": 89,
   "metadata": {
    "collapsed": false,
    "jupyter": {
     "outputs_hidden": false
    }
   },
   "outputs": [],
   "source": [
    "with open('./inputs/day04_input_small.txt') as file:\n",
    "    pairs = [i for i in [i.split('|') for i in [i.removesuffix('\\n').split(':')[1] for i in file]]]\n",
    "\n",
    "results = []\n",
    "\n",
    "for p in pairs:\n",
    "    left = [int(i) for i in p[0].strip().split()]\n",
    "    right = [int(i) for i in p[1].strip().split()]\n",
    "    results.append([i for i in right if i in left])"
   ]
  },
  {
   "cell_type": "markdown",
   "source": [
    "### Answer 1"
   ],
   "metadata": {
    "collapsed": false
   }
  },
  {
   "cell_type": "code",
   "execution_count": 90,
   "outputs": [
    {
     "data": {
      "text/plain": "13"
     },
     "execution_count": 90,
     "metadata": {},
     "output_type": "execute_result"
    }
   ],
   "source": [
    "sum([2 ** (len(i) - 1) for i in results if len(i) > 0])"
   ],
   "metadata": {
    "collapsed": false
   }
  },
  {
   "cell_type": "markdown",
   "source": [
    "### Answer 2"
   ],
   "metadata": {
    "collapsed": false
   }
  },
  {
   "cell_type": "code",
   "execution_count": 107,
   "outputs": [
    {
     "data": {
      "text/plain": "[(1, 4), (2, 2), (3, 2), (4, 1), (5, 0), (6, 0)]"
     },
     "execution_count": 107,
     "metadata": {},
     "output_type": "execute_result"
    }
   ],
   "source": [
    "_results = []\n",
    "\n",
    "for idx, p in enumerate(pairs):\n",
    "    left = [int(i) for i in p[0].strip().split()]\n",
    "    right = [int(i) for i in p[1].strip().split()]\n",
    "    _results.append((idx + 1, len([i for i in right if i in left])))\n",
    "_results"
   ],
   "metadata": {
    "collapsed": false
   }
  },
  {
   "cell_type": "markdown",
   "source": [
    "Working for the sampledata set but runs forever for the full data set."
   ],
   "metadata": {
    "collapsed": false
   }
  },
  {
   "cell_type": "code",
   "execution_count": 121,
   "outputs": [
    {
     "data": {
      "text/plain": "card        int64\nwinnings    int64\ndtype: object"
     },
     "execution_count": 121,
     "metadata": {},
     "output_type": "execute_result"
    }
   ],
   "source": [],
   "metadata": {
    "collapsed": false
   }
  },
  {
   "cell_type": "code",
   "execution_count": 142,
   "outputs": [
    {
     "name": "stdout",
     "output_type": "stream",
     "text": [
      "4\n",
      "   card  winnings\n",
      "0     1         4\n",
      "1     2         2\n",
      "2     3         2\n",
      "3     4         1\n",
      "4     5         0\n",
      "5     6         0\n",
      "4\n",
      "   card  winnings\n",
      "0     1         4\n",
      "1     2         2\n",
      "6     2         2\n",
      "2     3         2\n",
      "7     3         2\n",
      "3     4         1\n",
      "8     4         1\n",
      "4     5         0\n",
      "9     5         0\n",
      "5     6         0\n",
      "4\n",
      "    card  winnings\n",
      "0      1         4\n",
      "1      2         2\n",
      "2      2         2\n",
      "10     2         2\n",
      "3      3         2\n",
      "4      3         2\n",
      "11     3         2\n",
      "5      4         1\n",
      "6      4         1\n",
      "12     4         1\n",
      "7      5         0\n",
      "8      5         0\n",
      "13     5         0\n",
      "9      6         0\n"
     ]
    },
    {
     "ename": "KeyboardInterrupt",
     "evalue": "",
     "output_type": "error",
     "traceback": [
      "\u001B[0;31m---------------------------------------------------------------------------\u001B[0m",
      "\u001B[0;31mKeyboardInterrupt\u001B[0m                         Traceback (most recent call last)",
      "Cell \u001B[0;32mIn[142], line 23\u001B[0m\n\u001B[1;32m     21\u001B[0m     df \u001B[38;5;241m=\u001B[39m pd\u001B[38;5;241m.\u001B[39mconcat([df, org_df\u001B[38;5;241m.\u001B[39miloc[start_idx:end_idx]], ignore_index\u001B[38;5;241m=\u001B[39m\u001B[38;5;28;01mTrue\u001B[39;00m)\n\u001B[1;32m     22\u001B[0m     df \u001B[38;5;241m=\u001B[39m df\u001B[38;5;241m.\u001B[39msort_values(by\u001B[38;5;241m=\u001B[39m\u001B[38;5;124m\"\u001B[39m\u001B[38;5;124mcard\u001B[39m\u001B[38;5;124m\"\u001B[39m)\n\u001B[0;32m---> 23\u001B[0m     pointer \u001B[38;5;241m=\u001B[39m \u001B[43mpointer\u001B[49m \u001B[38;5;241m+\u001B[39m \u001B[38;5;241m1\u001B[39m\n\u001B[1;32m     25\u001B[0m \u001B[38;5;66;03m# print(_results)\u001B[39;00m\n",
      "Cell \u001B[0;32mIn[142], line 23\u001B[0m\n\u001B[1;32m     21\u001B[0m     df \u001B[38;5;241m=\u001B[39m pd\u001B[38;5;241m.\u001B[39mconcat([df, org_df\u001B[38;5;241m.\u001B[39miloc[start_idx:end_idx]], ignore_index\u001B[38;5;241m=\u001B[39m\u001B[38;5;28;01mTrue\u001B[39;00m)\n\u001B[1;32m     22\u001B[0m     df \u001B[38;5;241m=\u001B[39m df\u001B[38;5;241m.\u001B[39msort_values(by\u001B[38;5;241m=\u001B[39m\u001B[38;5;124m\"\u001B[39m\u001B[38;5;124mcard\u001B[39m\u001B[38;5;124m\"\u001B[39m)\n\u001B[0;32m---> 23\u001B[0m     pointer \u001B[38;5;241m=\u001B[39m \u001B[43mpointer\u001B[49m \u001B[38;5;241m+\u001B[39m \u001B[38;5;241m1\u001B[39m\n\u001B[1;32m     25\u001B[0m \u001B[38;5;66;03m# print(_results)\u001B[39;00m\n",
      "File \u001B[0;32m_pydevd_bundle/pydevd_cython_darwin_310_64.pyx:1179\u001B[0m, in \u001B[0;36m_pydevd_bundle.pydevd_cython_darwin_310_64.SafeCallWrapper.__call__\u001B[0;34m()\u001B[0m\n",
      "File \u001B[0;32m_pydevd_bundle/pydevd_cython_darwin_310_64.pyx:620\u001B[0m, in \u001B[0;36m_pydevd_bundle.pydevd_cython_darwin_310_64.PyDBFrame.trace_dispatch\u001B[0;34m()\u001B[0m\n",
      "File \u001B[0;32m_pydevd_bundle/pydevd_cython_darwin_310_64.pyx:929\u001B[0m, in \u001B[0;36m_pydevd_bundle.pydevd_cython_darwin_310_64.PyDBFrame.trace_dispatch\u001B[0;34m()\u001B[0m\n",
      "File \u001B[0;32m_pydevd_bundle/pydevd_cython_darwin_310_64.pyx:920\u001B[0m, in \u001B[0;36m_pydevd_bundle.pydevd_cython_darwin_310_64.PyDBFrame.trace_dispatch\u001B[0;34m()\u001B[0m\n",
      "File \u001B[0;32m_pydevd_bundle/pydevd_cython_darwin_310_64.pyx:317\u001B[0m, in \u001B[0;36m_pydevd_bundle.pydevd_cython_darwin_310_64.PyDBFrame.do_wait_suspend\u001B[0;34m()\u001B[0m\n",
      "File \u001B[0;32m/Applications/PyCharm.app/Contents/plugins/python/helpers/pydev/pydevd.py:1160\u001B[0m, in \u001B[0;36mPyDB.do_wait_suspend\u001B[0;34m(self, thread, frame, event, arg, send_suspend_message, is_unhandled_exception)\u001B[0m\n\u001B[1;32m   1157\u001B[0m         from_this_thread\u001B[38;5;241m.\u001B[39mappend(frame_id)\n\u001B[1;32m   1159\u001B[0m \u001B[38;5;28;01mwith\u001B[39;00m \u001B[38;5;28mself\u001B[39m\u001B[38;5;241m.\u001B[39m_threads_suspended_single_notification\u001B[38;5;241m.\u001B[39mnotify_thread_suspended(thread_id, stop_reason):\n\u001B[0;32m-> 1160\u001B[0m     \u001B[38;5;28;43mself\u001B[39;49m\u001B[38;5;241;43m.\u001B[39;49m\u001B[43m_do_wait_suspend\u001B[49m\u001B[43m(\u001B[49m\u001B[43mthread\u001B[49m\u001B[43m,\u001B[49m\u001B[43m \u001B[49m\u001B[43mframe\u001B[49m\u001B[43m,\u001B[49m\u001B[43m \u001B[49m\u001B[43mevent\u001B[49m\u001B[43m,\u001B[49m\u001B[43m \u001B[49m\u001B[43marg\u001B[49m\u001B[43m,\u001B[49m\u001B[43m \u001B[49m\u001B[43msuspend_type\u001B[49m\u001B[43m,\u001B[49m\u001B[43m \u001B[49m\u001B[43mfrom_this_thread\u001B[49m\u001B[43m)\u001B[49m\n",
      "File \u001B[0;32m/Applications/PyCharm.app/Contents/plugins/python/helpers/pydev/pydevd.py:1175\u001B[0m, in \u001B[0;36mPyDB._do_wait_suspend\u001B[0;34m(self, thread, frame, event, arg, suspend_type, from_this_thread)\u001B[0m\n\u001B[1;32m   1172\u001B[0m             \u001B[38;5;28mself\u001B[39m\u001B[38;5;241m.\u001B[39m_call_mpl_hook()\n\u001B[1;32m   1174\u001B[0m         \u001B[38;5;28mself\u001B[39m\u001B[38;5;241m.\u001B[39mprocess_internal_commands()\n\u001B[0;32m-> 1175\u001B[0m         \u001B[43mtime\u001B[49m\u001B[38;5;241;43m.\u001B[39;49m\u001B[43msleep\u001B[49m\u001B[43m(\u001B[49m\u001B[38;5;241;43m0.01\u001B[39;49m\u001B[43m)\u001B[49m\n\u001B[1;32m   1177\u001B[0m \u001B[38;5;28mself\u001B[39m\u001B[38;5;241m.\u001B[39mcancel_async_evaluation(get_current_thread_id(thread), \u001B[38;5;28mstr\u001B[39m(\u001B[38;5;28mid\u001B[39m(frame)))\n\u001B[1;32m   1179\u001B[0m \u001B[38;5;66;03m# process any stepping instructions\u001B[39;00m\n",
      "\u001B[0;31mKeyboardInterrupt\u001B[0m: "
     ]
    }
   ],
   "source": [
    "import pandas as pd\n",
    "df = pd.DataFrame(_results, columns=['card', 'winnings'])\n",
    "df.sort_values(by=\"card\")\n",
    "\n",
    "pointer = 0\n",
    "org_df = df.copy(deep=True)\n",
    "while pointer < df.shape[0]:\n",
    "    # print(df)\n",
    "    source_idx = df.iloc[0].card - 1\n",
    "    if source_idx == org_df.shape[0]:\n",
    "        print('breaking')\n",
    "        break\n",
    "\n",
    "    winnings_count = int(org_df.iloc[int(source_idx)].winnings)\n",
    "    print(winnings_count)\n",
    "    print(df)\n",
    "\n",
    "    start_idx = int(source_idx) + 1\n",
    "    end_idx = (start_idx + winnings_count) if ((start_idx + winnings_count) <= org_df.shape[0]) else org_df.shape[0]\n",
    "\n",
    "    df = pd.concat([df, org_df.iloc[start_idx:end_idx]], ignore_index=True)\n",
    "    df = df.sort_values(by=\"card\")\n",
    "    pointer = pointer + 1\n",
    "\n",
    "# print(_results)"
   ],
   "metadata": {
    "collapsed": false
   }
  },
  {
   "cell_type": "markdown",
   "source": [
    "Recursive method. Working for the sampledata set but max recursion depth exceeds for the full data set."
   ],
   "metadata": {
    "collapsed": false
   }
  },
  {
   "cell_type": "code",
   "execution_count": 93,
   "outputs": [],
   "source": [
    "# pointer = 0\n",
    "# org_results = _results.copy()\n",
    "#\n",
    "#\n",
    "# def recur(outcome, ptr):\n",
    "#     if ptr == len(outcome):\n",
    "#         return outcome\n",
    "#\n",
    "#     source_idx = outcome[ptr][0] - 1\n",
    "#     if source_idx == len(org_results):\n",
    "#         return outcome\n",
    "#     winnings_count = org_results[source_idx][1]\n",
    "#\n",
    "#     start_idx = source_idx + 1\n",
    "#     end_idx = (start_idx + winnings_count) if ((start_idx + winnings_count) <= len(org_results)) else len(\n",
    "#         org_results)\n",
    "#\n",
    "#     r = outcome + org_results[start_idx:end_idx]\n",
    "#     # r = sorted(r, key=lambda e: e[0])\n",
    "#     return recur(r, ptr + 1)\n",
    "#\n",
    "#\n",
    "# _results = recur(_results, 0)"
   ],
   "metadata": {
    "collapsed": false
   }
  },
  {
   "cell_type": "code",
   "execution_count": 94,
   "outputs": [
    {
     "data": {
      "text/plain": "30"
     },
     "execution_count": 94,
     "metadata": {},
     "output_type": "execute_result"
    }
   ],
   "source": [
    "\n",
    "\n",
    "# df = pd.DataFrame(_results, columns=['card', 'winnings'])\n",
    "# sum(list(df.groupby('card')['card'].agg(['count'])['count']))"
   ],
   "metadata": {
    "collapsed": false
   }
  }
 ],
 "metadata": {
  "kernelspec": {
   "display_name": "Python 3 (ipykernel)",
   "language": "python",
   "name": "python3"
  },
  "language_info": {
   "codemirror_mode": {
    "name": "ipython",
    "version": 3
   },
   "file_extension": ".py",
   "mimetype": "text/x-python",
   "name": "python",
   "nbconvert_exporter": "python",
   "pygments_lexer": "ipython3",
   "version": "3.10.8"
  }
 },
 "nbformat": 4,
 "nbformat_minor": 4
}
