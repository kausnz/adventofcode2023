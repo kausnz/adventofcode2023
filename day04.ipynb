{
 "cells": [
  {
   "cell_type": "markdown",
   "metadata": {},
   "source": [
    "# Day 4\n",
    "\n",
    "[https://adventofcode.com/2023/day/4]()"
   ]
  },
  {
   "cell_type": "code",
   "execution_count": 89,
   "metadata": {
    "collapsed": false,
    "jupyter": {
     "outputs_hidden": false
    }
   },
   "outputs": [],
   "source": [
    "with open('./inputs/day04_input_small.txt') as file:\n",
    "    pairs = [i for i in [i.split('|') for i in [i.removesuffix('\\n').split(':')[1] for i in file]]]\n",
    "\n",
    "results = []\n",
    "\n",
    "for p in pairs:\n",
    "    left = [int(i) for i in p[0].strip().split()]\n",
    "    right = [int(i) for i in p[1].strip().split()]\n",
    "    results.append([i for i in right if i in left])"
   ]
  },
  {
   "cell_type": "markdown",
   "source": [
    "### Answer 1"
   ],
   "metadata": {
    "collapsed": false
   }
  },
  {
   "cell_type": "code",
   "execution_count": 90,
   "outputs": [
    {
     "data": {
      "text/plain": "13"
     },
     "execution_count": 90,
     "metadata": {},
     "output_type": "execute_result"
    }
   ],
   "source": [
    "sum([2 ** (len(i) - 1) for i in results if len(i) > 0])"
   ],
   "metadata": {
    "collapsed": false
   }
  },
  {
   "cell_type": "markdown",
   "source": [
    "### Answer 2"
   ],
   "metadata": {
    "collapsed": false
   }
  },
  {
   "cell_type": "code",
   "execution_count": 91,
   "outputs": [
    {
     "data": {
      "text/plain": "[(1, 4), (2, 2), (3, 2), (4, 1), (5, 0), (6, 0)]"
     },
     "execution_count": 91,
     "metadata": {},
     "output_type": "execute_result"
    }
   ],
   "source": [
    "_results = []\n",
    "\n",
    "for idx, p in enumerate(pairs):\n",
    "    left = [int(i) for i in p[0].strip().split()]\n",
    "    right = [int(i) for i in p[1].strip().split()]\n",
    "    _results.append((idx + 1, len([i for i in right if i in left])))\n",
    "_results"
   ],
   "metadata": {
    "collapsed": false
   }
  },
  {
   "cell_type": "markdown",
   "source": [
    "Working for the sampledata set but runs forever for the full data set."
   ],
   "metadata": {
    "collapsed": false
   }
  },
  {
   "cell_type": "code",
   "execution_count": 92,
   "outputs": [],
   "source": [
    "\n",
    "# pointer = 0\n",
    "# org_results = _results.copy()\n",
    "# while pointer < len(_results):\n",
    "#     # print(_results[pointer][0]-1)\n",
    "#     source_idx = _results[pointer][0]-1\n",
    "#     if source_idx == len(org_results):\n",
    "#         print('breaking')\n",
    "#         break\n",
    "#     winnings_count = org_results[source_idx][1]\n",
    "#     # print(winnings_count)\n",
    "#     start_idx = source_idx + 1\n",
    "#     end_idx = (start_idx + winnings_count) if ((start_idx + winnings_count) <= len(org_results)) else len(\n",
    "#         org_results)\n",
    "#\n",
    "#     _results = _results + org_results[start_idx:end_idx]\n",
    "#     _results = sorted(_results, key=lambda e: e[0])\n",
    "#     pointer = pointer + 1\n",
    "\n",
    "# print(_results)"
   ],
   "metadata": {
    "collapsed": false
   }
  },
  {
   "cell_type": "markdown",
   "source": [
    "Recursive method. Working for the sampledata set but max recursion depth exceeds for the full data set."
   ],
   "metadata": {
    "collapsed": false
   }
  },
  {
   "cell_type": "code",
   "execution_count": 93,
   "outputs": [],
   "source": [
    "pointer = 0\n",
    "org_results = _results.copy()\n",
    "\n",
    "\n",
    "def recur(outcome, ptr):\n",
    "    if ptr == len(outcome):\n",
    "        return outcome\n",
    "\n",
    "    source_idx = outcome[ptr][0] - 1\n",
    "    if source_idx == len(org_results):\n",
    "        return outcome\n",
    "    winnings_count = org_results[source_idx][1]\n",
    "\n",
    "    start_idx = source_idx + 1\n",
    "    end_idx = (start_idx + winnings_count) if ((start_idx + winnings_count) <= len(org_results)) else len(\n",
    "        org_results)\n",
    "\n",
    "    r = outcome + org_results[start_idx:end_idx]\n",
    "    # r = sorted(r, key=lambda e: e[0])\n",
    "    return recur(r, ptr + 1)\n",
    "\n",
    "\n",
    "_results = recur(_results, 0)"
   ],
   "metadata": {
    "collapsed": false
   }
  },
  {
   "cell_type": "code",
   "execution_count": 94,
   "outputs": [
    {
     "data": {
      "text/plain": "30"
     },
     "execution_count": 94,
     "metadata": {},
     "output_type": "execute_result"
    }
   ],
   "source": [
    "import pandas as pd\n",
    "\n",
    "df = pd.DataFrame(_results, columns=['card', 'winnings'])\n",
    "sum(list(df.groupby('card')['card'].agg(['count'])['count']))"
   ],
   "metadata": {
    "collapsed": false
   }
  }
 ],
 "metadata": {
  "kernelspec": {
   "display_name": "Python 3 (ipykernel)",
   "language": "python",
   "name": "python3"
  },
  "language_info": {
   "codemirror_mode": {
    "name": "ipython",
    "version": 3
   },
   "file_extension": ".py",
   "mimetype": "text/x-python",
   "name": "python",
   "nbconvert_exporter": "python",
   "pygments_lexer": "ipython3",
   "version": "3.10.8"
  }
 },
 "nbformat": 4,
 "nbformat_minor": 4
}
