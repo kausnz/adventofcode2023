{
 "cells": [
  {
   "cell_type": "markdown",
   "metadata": {},
   "source": [
    "# Day 2\n",
    "\n",
    "[https://adventofcode.com/2023/day/2]()"
   ]
  },
  {
   "cell_type": "code",
   "execution_count": 219,
   "metadata": {
    "collapsed": true,
    "jupyter": {
     "outputs_hidden": true
    }
   },
   "outputs": [],
   "source": [
    "import re"
   ]
  },
  {
   "cell_type": "code",
   "execution_count": 220,
   "outputs": [],
   "source": [
    "MAX_RED = 12\n",
    "MAX_GREEN = 13\n",
    "MAX_BLUE = 14\n",
    "\n",
    "\n",
    "def parse_line(line):\n",
    "    t = re.split(':', line)\n",
    "    game_id = int(re.match(r\"(\\w+) (\\d+)\", t[0]).group(2))\n",
    "    sets = re.split(';', t[1])\n",
    "    sets_list = []\n",
    "    for s in sets:\n",
    "        items = re.split(',', s)\n",
    "        for i in items:\n",
    "            t = re.match(' ?(\\d+) (\\w+).*', i)\n",
    "            sets_list.append((t.group(2), int(t.group(1))))\n",
    "    return {'game_id': game_id, 'sets': sets_list, 'possible': True}  # set 'possible' = True as default\n",
    "\n",
    "\n",
    "def possible(cube, count):\n",
    "    return not ((cube == 'red' and count > MAX_RED) or (cube == 'green' and count > MAX_GREEN) or (\n",
    "            cube == 'blue' and count > MAX_BLUE))"
   ],
   "metadata": {
    "collapsed": false
   }
  },
  {
   "cell_type": "code",
   "execution_count": 221,
   "metadata": {
    "collapsed": false,
    "jupyter": {
     "outputs_hidden": false
    }
   },
   "outputs": [],
   "source": [
    "with open('./inputs/day02_input_full.txt') as file:\n",
    "    games = [parse_line(line) for line in file]"
   ]
  },
  {
   "cell_type": "code",
   "execution_count": 222,
   "outputs": [],
   "source": [
    "for game in games:\n",
    "    for s in (game['sets']):\n",
    "        if not possible(s[0], s[1]):\n",
    "            game['possible'] = False\n",
    "            break"
   ],
   "metadata": {
    "collapsed": false
   }
  },
  {
   "cell_type": "markdown",
   "source": [
    "### Answer 1"
   ],
   "metadata": {
    "collapsed": false
   }
  },
  {
   "cell_type": "code",
   "execution_count": 223,
   "outputs": [
    {
     "data": {
      "text/plain": "2439"
     },
     "execution_count": 223,
     "metadata": {},
     "output_type": "execute_result"
    }
   ],
   "source": [
    "sum([g['game_id'] for g in list(filter(lambda g: g['possible'] == True, games))])"
   ],
   "metadata": {
    "collapsed": false
   }
  },
  {
   "cell_type": "markdown",
   "source": [
    "### Answer 2"
   ],
   "metadata": {
    "collapsed": false
   }
  },
  {
   "cell_type": "code",
   "execution_count": 224,
   "outputs": [],
   "source": [
    "import pandas as pd\n",
    "import numpy"
   ],
   "metadata": {
    "collapsed": false
   }
  },
  {
   "cell_type": "code",
   "execution_count": 225,
   "outputs": [
    {
     "data": {
      "text/plain": "63711"
     },
     "execution_count": 225,
     "metadata": {},
     "output_type": "execute_result"
    }
   ],
   "source": [
    "def power_games(game):\n",
    "    df = pd.DataFrame(game['sets'], columns=['cube', 'count'])\n",
    "    return numpy.prod(list(df.groupby('cube')['count'].agg(['max'])['max']))\n",
    "\n",
    "\n",
    "sum([power_games(g) for g in games])"
   ],
   "metadata": {
    "collapsed": false
   }
  }
 ],
 "metadata": {
  "kernelspec": {
   "display_name": "Python 3 (ipykernel)",
   "language": "python",
   "name": "python3"
  },
  "language_info": {
   "codemirror_mode": {
    "name": "ipython",
    "version": 3
   },
   "file_extension": ".py",
   "mimetype": "text/x-python",
   "name": "python",
   "nbconvert_exporter": "python",
   "pygments_lexer": "ipython3",
   "version": "3.10.8"
  }
 },
 "nbformat": 4,
 "nbformat_minor": 4
}
