{
 "cells": [
  {
   "cell_type": "markdown",
   "metadata": {},
   "source": [
    "# Day 5\n",
    "\n",
    "[https://adventofcode.com/2023/day/5]()"
   ]
  },
  {
   "cell_type": "code",
   "execution_count": 51,
   "metadata": {
    "collapsed": false,
    "jupyter": {
     "outputs_hidden": false
    }
   },
   "outputs": [],
   "source": [
    "import re\n",
    "import pandas as pd\n",
    "\n",
    "f = open('./inputs/day05_input_full.txt')\n",
    "text = f.read()\n",
    "f.close()\n",
    "\n",
    "COLUMN_NAMES = ['right', 'left', 'steps']\n",
    "\n",
    "pattern1 = re.compile(\n",
    "    r\"^seeds: (.*)\\n\\nseed-to-soil map:\\n((\\d+ \\d+ \\d+\\n)+)\\nsoil-to-fertilizer map:\\n((\\d+ \\d+ \\d+\\n)+)\\nfertilizer-to-water map:\\n((\\d+ \\d+ \\d+\\n)+)\\nwater-to-light map:\\n((\\d+ \\d+ \\d+\\n)+)\\nlight-to-temperature map:\\n((\\d+ \\d+ \\d+\\n)+)\\ntemperature-to-humidity map:\\n((\\d+ \\d+ \\d+\\n)+)\\nhumidity-to-location map:\\n((\\d+ \\d+ \\d+\\n?)+)\",\n",
    "    re.MULTILINE)\n",
    "for match in pattern1.finditer(text):\n",
    "    # seeds\n",
    "    seeds = [int(i) for i in match.group(1).split()]\n",
    "\n",
    "    #seed-to-soil\n",
    "    seed_to_soil = pd.DataFrame([j for j in [i.split() for i in match.group(2).split('\\n')] if len(j) > 0],\n",
    "                                columns=COLUMN_NAMES).sort_values('left').reset_index().astype(\n",
    "        int)\n",
    "\n",
    "    # soil-to-fertilizer\n",
    "    soil_to_fertilizer = pd.DataFrame(\n",
    "        [j for j in [i.split() for i in match.group(4).split('\\n')] if len(j) > 0], columns=COLUMN_NAMES).sort_values(\n",
    "        'left').reset_index().astype(\n",
    "        int)\n",
    "\n",
    "    # fertilizer-to-water\n",
    "    fertilizer_to_water = pd.DataFrame(\n",
    "        [j for j in [i.split() for i in match.group(6).split('\\n')] if len(j) > 0], columns=COLUMN_NAMES).sort_values(\n",
    "        'left').reset_index().astype(\n",
    "        int)\n",
    "\n",
    "    # water-to-light\n",
    "    water_to_light = pd.DataFrame([j for j in [i.split() for i in match.group(8).split('\\n')] if len(j) > 0],\n",
    "                                  columns=COLUMN_NAMES).sort_values('left').reset_index().astype(\n",
    "        int)\n",
    "\n",
    "    # light-to-temperature\n",
    "    light_to_temperature = pd.DataFrame(\n",
    "        [j for j in [i.split() for i in match.group(10).split('\\n')] if len(j) > 0], columns=COLUMN_NAMES).sort_values(\n",
    "        'left').reset_index().astype(\n",
    "        int)\n",
    "\n",
    "    # temperature-to-humidity\n",
    "    temperature_to_humidity = pd.DataFrame(\n",
    "        [j for j in [i.split() for i in match.group(12).split('\\n')] if len(j) > 0], columns=COLUMN_NAMES).sort_values(\n",
    "        'left').reset_index().astype(\n",
    "        int)\n",
    "\n",
    "    # humidity-to-location\n",
    "    humidity_to_location = pd.DataFrame(\n",
    "        [j for j in [i.split() for i in match.group(14).split('\\n')] if len(j) > 0], columns=COLUMN_NAMES).sort_values(\n",
    "        'left').reset_index().astype(\n",
    "        int)\n"
   ]
  },
  {
   "cell_type": "code",
   "execution_count": 52,
   "outputs": [],
   "source": [
    "def find_target(mappings, src_val):\n",
    "    df = mappings.loc[(src_val >= mappings['left']) & (src_val <= mappings['left'] + mappings['steps'] -1 )].reset_index()\n",
    "    r = src_val if df.empty else df.loc[0].right + (src_val - df.loc[0].left)\n",
    "    return r\n",
    "\n",
    "result = []\n",
    "\n",
    "for s in seeds:\n",
    "    s2s = find_target(seed_to_soil, s)\n",
    "    s2f = find_target(soil_to_fertilizer, s2s)\n",
    "    f2w = find_target(fertilizer_to_water, s2f)\n",
    "    w2l = find_target(water_to_light, f2w)\n",
    "    l2t = find_target(light_to_temperature, w2l)\n",
    "    t2h = find_target(temperature_to_humidity, l2t)\n",
    "    h2l = find_target(humidity_to_location, t2h)\n",
    "    result.append(h2l)"
   ],
   "metadata": {
    "collapsed": false
   }
  },
  {
   "cell_type": "markdown",
   "source": [
    "### Answer 1"
   ],
   "metadata": {
    "collapsed": false
   }
  },
  {
   "cell_type": "code",
   "execution_count": 53,
   "outputs": [
    {
     "data": {
      "text/plain": "177942185"
     },
     "execution_count": 53,
     "metadata": {},
     "output_type": "execute_result"
    }
   ],
   "source": [
    "min(result)"
   ],
   "metadata": {
    "collapsed": false
   }
  }
 ],
 "metadata": {
  "kernelspec": {
   "display_name": "Python 3 (ipykernel)",
   "language": "python",
   "name": "python3"
  },
  "language_info": {
   "codemirror_mode": {
    "name": "ipython",
    "version": 3
   },
   "file_extension": ".py",
   "mimetype": "text/x-python",
   "name": "python",
   "nbconvert_exporter": "python",
   "pygments_lexer": "ipython3",
   "version": "3.10.8"
  }
 },
 "nbformat": 4,
 "nbformat_minor": 4
}
