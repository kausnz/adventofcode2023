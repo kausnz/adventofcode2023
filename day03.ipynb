{
 "cells": [
  {
   "cell_type": "markdown",
   "metadata": {},
   "source": [
    "# Day 3\n",
    "\n",
    "[https://adventofcode.com/2023/day/3]()"
   ]
  },
  {
   "cell_type": "markdown",
   "source": [
    "Note: This program assumes the \"numbers\" do not exceed 3 digits. That's why the start and end coordinates returned by span() can be used for the calculation. If numbers exceed 3 digits, this code needs an improvement."
   ],
   "metadata": {
    "collapsed": false
   }
  },
  {
   "cell_type": "code",
   "execution_count": 95,
   "metadata": {
    "collapsed": true,
    "jupyter": {
     "outputs_hidden": true
    }
   },
   "outputs": [],
   "source": [
    "import re"
   ]
  },
  {
   "cell_type": "code",
   "execution_count": 96,
   "metadata": {
    "collapsed": false,
    "jupyter": {
     "outputs_hidden": false
    }
   },
   "outputs": [],
   "source": [
    "def get_adjacent_cords(y, n1, n2):\n",
    "    return [(n1 - 1, y), (n1 - 1, y - 1), (n1, y - 1), (n1 + 1, y - 1), (n1 + 1, y), (n1 + 1, y + 1), (n1, y + 1),\n",
    "            (n1 - 1, y + 1),\n",
    "            (n2 - 1, y), (n2 - 1, y - 1), (n2, y - 1), (n2 + 1, y - 1), (n2 + 1, y), (n2 + 1, y + 1), (n2, y + 1),\n",
    "            (n2 - 1, y + 1)]\n",
    "\n",
    "\n",
    "def populate_cords(y, _line, _numbers, _specials, _stars):\n",
    "    numbers_in_line = re.finditer(r\"(\\d+)\", _line)\n",
    "    for num in numbers_in_line:\n",
    "        _numbers.append((num.group(), get_adjacent_cords(y, num.span()[0], num.span()[1] - 1)))\n",
    "\n",
    "    specials_in_line = re.finditer(r\"([^A-Za-z0-9.\\n])\", _line)\n",
    "    for sp in specials_in_line:\n",
    "        _specials.append((sp.span()[0], y))\n",
    "\n",
    "    stars_in_line = re.finditer(r\"([*])\", _line)\n",
    "    for star in stars_in_line:\n",
    "        _stars.append((star.span()[0], y))\n",
    "\n",
    "\n",
    "row = 0\n",
    "numbers = []\n",
    "specials = []\n",
    "stars = []\n",
    "\n",
    "with open('./inputs/day03_input_full.txt') as file:\n",
    "    for line in file:\n",
    "        populate_cords(row, line, numbers, specials, stars)\n",
    "        row = row + 1\n",
    "\n",
    "# print(numbers)\n",
    "# print(specials)\n",
    "# print(stars)"
   ]
  },
  {
   "cell_type": "markdown",
   "source": [
    "### Answer 1"
   ],
   "metadata": {
    "collapsed": false
   }
  },
  {
   "cell_type": "code",
   "execution_count": 97,
   "outputs": [
    {
     "data": {
      "text/plain": "540212"
     },
     "execution_count": 97,
     "metadata": {},
     "output_type": "execute_result"
    }
   ],
   "source": [
    "sum([int(n[0]) for n in list(filter(lambda n: len([i for i in specials if i in n[1]]) > 0, numbers))])"
   ],
   "metadata": {
    "collapsed": false
   }
  },
  {
   "cell_type": "markdown",
   "source": [],
   "metadata": {
    "collapsed": false
   }
  },
  {
   "cell_type": "markdown",
   "source": [
    "### Answer 2"
   ],
   "metadata": {
    "collapsed": false
   }
  },
  {
   "cell_type": "code",
   "execution_count": 98,
   "outputs": [
    {
     "data": {
      "text/plain": "87605697"
     },
     "execution_count": 98,
     "metadata": {},
     "output_type": "execute_result"
    }
   ],
   "source": [
    "gears = []\n",
    "for _star in stars:\n",
    "    gear_numbers = []\n",
    "    for number in numbers:\n",
    "        if _star in number[1]:\n",
    "            gear_numbers.append(number[0])\n",
    "    gears.append(gear_numbers)\n",
    "\n",
    "# Here I'm assuming the count of adjacent numbers cannot be more than 2.\n",
    "sum([int(i[0]) * int(i[1]) for i in gears if len(i) == 2])"
   ],
   "metadata": {
    "collapsed": false
   }
  }
 ],
 "metadata": {
  "kernelspec": {
   "display_name": "Python 3 (ipykernel)",
   "language": "python",
   "name": "python3"
  },
  "language_info": {
   "codemirror_mode": {
    "name": "ipython",
    "version": 3
   },
   "file_extension": ".py",
   "mimetype": "text/x-python",
   "name": "python",
   "nbconvert_exporter": "python",
   "pygments_lexer": "ipython3",
   "version": "3.10.8"
  }
 },
 "nbformat": 4,
 "nbformat_minor": 4
}
